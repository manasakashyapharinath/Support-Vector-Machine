{
 "cells": [
  {
   "cell_type": "markdown",
   "metadata": {},
   "source": [
    "# SUPPORT VECTOR MACHINE USING TRIVIAL DATASET"
   ]
  },
  {
   "cell_type": "code",
   "execution_count": 14,
   "metadata": {},
   "outputs": [],
   "source": [
    "from sklearn.cross_validation import KFold\n",
    "from sklearn.svm import LinearSVC\n",
    "from sklearn.cross_validation import cross_val_score\n",
    "import numpy as np\n",
    "import scipy.io as sio\n",
    "from sklearn.linear_model import LogisticRegression\n",
    "from sklearn.cross_validation import train_test_split\n",
    "from sklearn.metrics import accuracy_score\n",
    "from sklearn.metrics import roc_auc_score\n",
    "from sklearn import cross_validation \n",
    "from sklearn.cross_validation import train_test_split\n",
    "from sklearn.cross_validation import KFold\n",
    "import pylab as pl\n",
    "import pandas as pd\n",
    "from csv import reader\n",
    "import csv\n",
    "from sklearn import metrics\n",
    "import matplotlib.pyplot as plt\n",
    "from sklearn.metrics import accuracy_score\n",
    "from sklearn.metrics import confusion_matrix\n",
    "from matplotlib.colors import ListedColormap\n",
    "from numpy import random\n",
    "from sklearn.model_selection import GridSearchCV\n",
    "from sklearn import datasets, svm\n",
    "from numpy import where\n",
    "from mlxtend.plotting import plot_decision_regions\n",
    "\n"
   ]
  },
  {
   "cell_type": "markdown",
   "metadata": {},
   "source": [
    "To check the performance measure on a trivial dataset.\n",
    "\n",
    "X is generated randomly. It is a 200x2 matrix. Two columns represent X1 and X2 (2 attributes). Y is either 0 or 1.\n",
    "\n",
    "After loading the dataset, the dataset is split into train split and test split."
   ]
  },
  {
   "cell_type": "code",
   "execution_count": 15,
   "metadata": {},
   "outputs": [],
   "source": [
    "rng = np.random.RandomState(0)\n",
    "X = rng.randn(200, 2) \n",
    "Y = np.array(np.logical_xor(X[:, 0] > 0, X[:, 1] > 0), dtype=int) \n",
    "X_train, X_test, y_train, y_test = train_test_split(X, Y, test_size=0.5, random_state=42)  \n"
   ]
  },
  {
   "cell_type": "markdown",
   "metadata": {},
   "source": [
    "# Linear Kernel : \n",
    "\n",
    "We use existing SVM library and define the kernel as 'Linear'. Using the GridSearchCV API function, 5 fold cross-validation is performed for each different value of 'C'. The corresponding best parameters are noted."
   ]
  },
  {
   "cell_type": "code",
   "execution_count": 16,
   "metadata": {},
   "outputs": [
    {
     "name": "stdout",
     "output_type": "stream",
     "text": [
      "THis is Linear Kernel\n",
      "('Best score for data:', 0.67000000000000004)\n",
      "('Best alpha:', 2)\n",
      "('Best Kernel:', 'linear')\n",
      "RMean squared error: 0.58\n"
     ]
    }
   ],
   "source": [
    "kr1 = GridSearchCV(svm.SVC(kernel='linear'), cv=5,\n",
    "                  param_grid={\"C\": [1e0, 0.1, 1e-2, 1e-3, 0.5, 2,3,5]})\n",
    "kr1.fit(X_train, y_train)\n",
    "y_kr1 = kr1.predict(X_test)\n",
    "\n",
    "print(\"THis is Linear Kernel\")\n",
    "print('Best score for data:', kr1.best_score_) \n",
    "print('Best alpha:',kr1.best_estimator_.C) \n",
    "print('Best Kernel:',kr1.best_estimator_.kernel)\n",
    "print(\"RMean squared error: %.2f\" % np.sqrt(np.mean((y_kr1 - y_test) ** 2)))\n",
    "\n"
   ]
  },
  {
   "cell_type": "markdown",
   "metadata": {},
   "source": [
    "# Polynomial Kernel :\n",
    "\n",
    "We use existing SVM library and define the kernel as 'Poly'. Using the GridSearchCV API function, 5 fold cross-validation is performed for each different value of 'lambda', 'gamma', 'R' and 'degree'. The corresponding best parameters are noted."
   ]
  },
  {
   "cell_type": "code",
   "execution_count": 17,
   "metadata": {},
   "outputs": [
    {
     "name": "stdout",
     "output_type": "stream",
     "text": [
      "This is Polynomial Kernel\n",
      "('Best score for data:', 0.96999999999999997)\n",
      "('Best alpha:', 5)\n",
      "('Best Kernel:', 'poly')\n",
      "('Best Gamma:', 2)\n",
      "('Best degree:', 2)\n",
      "('Best coefficient:', 1)\n",
      "RMean squared error: 0.14\n"
     ]
    }
   ],
   "source": [
    "kr2 = GridSearchCV(svm.SVC(kernel='poly'), cv=5,\n",
    "                  param_grid={\"C\": [1e0, 0.1, 1e-2, 1e-3, 0.5, 2,3,5],\n",
    "                              \"gamma\": [0.001,0.0001,0.01,0.1,1,0.5,2,3],\n",
    "                              \"degree\":[1,2,3],\n",
    "                              \"coef0\":[1,2,3]})\n",
    "kr2.fit(X_train, y_train)\n",
    "y_kr2 = kr2.predict(X_test)\n",
    "print(\"This is Polynomial Kernel\")\n",
    "print('Best score for data:', kr2.best_score_) \n",
    "print('Best alpha:',kr2.best_estimator_.C) \n",
    "print('Best Kernel:',kr2.best_estimator_.kernel)\n",
    "print('Best Gamma:',kr2.best_estimator_.gamma)\n",
    "print('Best degree:',kr2.best_estimator_.degree)\n",
    "print('Best coefficient:',kr2.best_estimator_.coef0)\n",
    "print(\"RMean squared error: %.2f\" % np.sqrt(np.mean((y_kr2 - y_test) ** 2)))\n"
   ]
  },
  {
   "cell_type": "markdown",
   "metadata": {},
   "source": [
    "# Gaussian Kernel\n",
    "\n",
    "We use existing SVM library and define the kernel as 'rbf'. Using the GridSearchCV API function, 5 fold cross-validation is performed for each different value of 'lambda' and 'gamma'. The corresponding best parameters are noted."
   ]
  },
  {
   "cell_type": "code",
   "execution_count": 18,
   "metadata": {},
   "outputs": [
    {
     "name": "stdout",
     "output_type": "stream",
     "text": [
      "THis is Gaussian Kernel\n",
      "('Best score for data:', 0.92000000000000004)\n",
      "('Best alpha:', 2)\n",
      "('Best Kernel:', 'rbf')\n",
      "('Best Gamma:', 3)\n",
      "RMean squared error: 0.17\n"
     ]
    }
   ],
   "source": [
    "kr3 = GridSearchCV(svm.SVC(kernel='rbf'), cv=5,\n",
    "                  param_grid={\"C\": [1e0, 0.1, 1e-2, 1e-3, 0.5, 2,3,5],\n",
    "                              \"gamma\": [0.001,0.0001,0.01,0.1,1,0.5,2,3]})\n",
    "kr3.fit(X_train, y_train)\n",
    "y_kr3 = kr3.predict(X_test)\n",
    "print(\"THis is Gaussian Kernel\")\n",
    "print('Best score for data:', kr3.best_score_) \n",
    "print('Best alpha:',kr3.best_estimator_.C) \n",
    "print('Best Kernel:',kr3.best_estimator_.kernel)\n",
    "print('Best Gamma:',kr3.best_estimator_.gamma)\n",
    "print(\"RMean squared error: %.2f\" % np.sqrt(np.mean((y_kr3 - y_test) ** 2)))\n"
   ]
  },
  {
   "cell_type": "markdown",
   "metadata": {},
   "source": [
    "#  Graphical Representation"
   ]
  },
  {
   "cell_type": "markdown",
   "metadata": {},
   "source": [
    "Linear Kernel implementation is done on the trivial data and results are visualized graphically. The performance of the same is recorded- The RMSE is 0.58 and the accuracy is 0.67."
   ]
  },
  {
   "cell_type": "code",
   "execution_count": 19,
   "metadata": {},
   "outputs": [
    {
     "data": {
      "image/png": "[encoded data removed]",
      "text/plain": [
       "<matplotlib.figure.Figure at 0x7f780a94d5d0>"
      ]
     },
     "metadata": {},
     "output_type": "display_data"
    }
   ],
   "source": [
    "plot_decision_regions(X_test,y_test, clf=kr1)\n",
    "plt.xlabel('X1')\n",
    "plt.ylabel('X2')\n",
    "plt.title('SVM using Linear kernel')\n",
    "plt.legend()\n",
    "plt.show()"
   ]
  },
  {
   "cell_type": "markdown",
   "metadata": {},
   "source": [
    "Polynomial Kernel implementation is done on the trivial data and results are visualized graphically. The performance of the same is recorded- The RMSE is 0.14 and the accuracy is 0.969."
   ]
  },
  {
   "cell_type": "code",
   "execution_count": 20,
   "metadata": {},
   "outputs": [
    {
     "data": {
      "image/png": "[encoded data removed]",
      "text/plain": [
       "<matplotlib.figure.Figure at 0x7f780a94dc50>"
      ]
     },
     "metadata": {},
     "output_type": "display_data"
    }
   ],
   "source": [
    "plt.xlabel('X1')\n",
    "plt.ylabel('X2')\n",
    "plot_decision_regions(X_test,y_test, clf=kr2)\n",
    "plt.title('SVM using Polynomial kernel')\n",
    "plt.legend()\n",
    "plt.show()"
   ]
  },
  {
   "cell_type": "markdown",
   "metadata": {},
   "source": [
    "Gaussian Kernel implementation is done on the trivial data and results are visualized graphically. The performance of the same is recorded- The RMSE is 0.17 and the accuracy is 0.92."
   ]
  },
  {
   "cell_type": "code",
   "execution_count": 21,
   "metadata": {},
   "outputs": [
    {
     "data": {
      "image/png": "[encoded data removed]",
      "text/plain": [
       "<matplotlib.figure.Figure at 0x7f780a859c10>"
      ]
     },
     "metadata": {},
     "output_type": "display_data"
    }
   ],
   "source": [
    "plt.xlabel('X1')\n",
    "plt.ylabel('X2')\n",
    "plot_decision_regions(X_test,y_test, clf=kr3)\n",
    "plt.title('SVM using Gaussian kernel')\n",
    "plt.legend()\n",
    "plt.show()"
   ]
  },
  {
   "cell_type": "markdown",
   "metadata": {},
   "source": [
    "Best kernel for the Trivial Dataset"
   ]
  },
  {
   "cell_type": "code",
   "execution_count": 24,
   "metadata": {},
   "outputs": [
    {
     "name": "stdout",
     "output_type": "stream",
     "text": [
      "Best kernel for the trivial dataset is Polynomial kernel\n",
      "The following are its best hyperparameter values\n",
      "('Best score for data:', 0.96999999999999997)\n",
      "('Best alpha:', 5)\n",
      "('Best Kernel:', 'poly')\n",
      "('Best Gamma:', 2)\n",
      "('Best degree:', 2)\n",
      "('Best coefficient:', 1)\n",
      "RMean squared error: 0.14\n"
     ]
    }
   ],
   "source": [
    "print(\"Best kernel for the trivial dataset is Polynomial kernel\")\n",
    "print(\"The following are its best hyperparameter values\")\n",
    "print('Best score for data:', kr2.best_score_) \n",
    "print('Best alpha:',kr2.best_estimator_.C) \n",
    "print('Best Kernel:',kr2.best_estimator_.kernel)\n",
    "print('Best Gamma:',kr2.best_estimator_.gamma)\n",
    "print('Best degree:',kr2.best_estimator_.degree)\n",
    "print('Best coefficient:',kr2.best_estimator_.coef0)\n",
    "print(\"RMean squared error: %.2f\" % np.sqrt(np.mean((y_kr2 - y_test) ** 2)))\n"
   ]
  },
  {
   "cell_type": "markdown",
   "metadata": {},
   "source": []
  },
  {
   "cell_type": "code",
   "execution_count": null,
   "metadata": {},
   "outputs": [],
   "source": []
  }
 ],
 "metadata": {
  "kernelspec": {
   "display_name": "Python 2",
   "language": "python",
   "name": "python2"
  },
  "language_info": {
   "codemirror_mode": {
    "name": "ipython",
    "version": 2
   },
   "file_extension": ".py",
   "mimetype": "text/x-python",
   "name": "python",
   "nbconvert_exporter": "python",
   "pygments_lexer": "ipython2",
   "version": "2.7.12"
  }
 },
 "nbformat": 4,
 "nbformat_minor": 2
}
